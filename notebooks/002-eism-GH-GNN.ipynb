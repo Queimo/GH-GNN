{
 "cells": [
  {
   "cell_type": "markdown",
   "id": "fbbcf596",
   "metadata": {},
   "source": [
    "# Gibbs-Helmholtz Graph Neural Network (GH-GNN)\n",
    "\n",
    "An illustration of how to use GH-GNN for obtaining predictions on infinite dilution activity coefficients"
   ]
  },
  {
   "cell_type": "markdown",
   "id": "734aac96",
   "metadata": {},
   "source": [
    "### 1. Activate the conda environment\n",
    "\n",
    "Make sure you have activated an anaconda environment with all the necessary dependencies installed as mentioned in the [README file](https://github.com/edgarsmdn/GH-GNN/edit/main/README.md) on GitHub.\n",
    "\n",
    "You can create such environment in any [Google Colab](https://colab.research.google.com/) by simply running the following first cell:"
   ]
  },
  {
   "cell_type": "markdown",
   "id": "7fb66ea6",
   "metadata": {},
   "source": [
    "[![Open In Colab](https://colab.research.google.com/assets/colab-badge.svg)](https://colab.research.google.com/github/googlecolab/colabtools/blob/master/notebooks/colab-github-demo.ipynb)"
   ]
  },
  {
   "cell_type": "code",
   "execution_count": 3,
   "id": "064792e2",
   "metadata": {},
   "outputs": [],
   "source": [
    "try:\n",
    "  import google.colab\n",
    "  IN_COLAB = True\n",
    "except:\n",
    "  IN_COLAB = False\n",
    "\n",
    "if IN_COLAB:\n",
    "    import torch\n",
    "    !rm -rf sample_data/\n",
    "    !pip install rdkit\n",
    "    !pip install torch-scatter torch-sparse torch-cluster torch-spline-conv torch-geometric -f https://data.pyg.org/whl/torch-1.12.0+cpu.html\n",
    "    !pip install mordred \n",
    "    !git clone https://github.com/beangoben/molecular_screening_lecture.git\n",
    "    "
   ]
  },
  {
   "cell_type": "markdown",
   "id": "e9f56b3e",
   "metadata": {},
   "source": [
    "### 2. Import the model"
   ]
  },
  {
   "cell_type": "code",
   "execution_count": null,
   "id": "cbf0a394",
   "metadata": {},
   "outputs": [],
   "source": []
  },
  {
   "cell_type": "markdown",
   "id": "85842567",
   "metadata": {},
   "source": [
    "## 1. Import the model"
   ]
  },
  {
   "cell_type": "code",
   "execution_count": null,
   "id": "ec83a5d8",
   "metadata": {},
   "outputs": [],
   "source": [
    "import "
   ]
  },
  {
   "cell_type": "code",
   "execution_count": 1,
   "id": "90214431",
   "metadata": {},
   "outputs": [],
   "source": [
    "import pandas as pd\n",
    "import plotly.express as px\n",
    "import molplotly"
   ]
  },
  {
   "cell_type": "code",
   "execution_count": 2,
   "id": "45249f9c",
   "metadata": {},
   "outputs": [],
   "source": [
    "def select_df(df, comparison, methods):\n",
    "    if comparison == 'all':\n",
    "        return df\n",
    "    elif comparison == 'intersection_all':\n",
    "        mask = np.prod(np.array([df[method].notna().to_numpy() for method in methods]),\n",
    "                       axis=0).astype(bool)\n",
    "        return df[mask]\n",
    "    elif comparison == 'feasible_UNIFAC_Do':\n",
    "        return df[df['UNIFAC_Do'].notna()]\n",
    "    elif comparison == 'feasible_MOSCED':\n",
    "        return df[df['MOSCED'].notna()]"
   ]
  },
  {
   "cell_type": "code",
   "execution_count": 3,
   "id": "9c6ff550",
   "metadata": {},
   "outputs": [],
   "source": [
    "df_train = pd.read_csv('../Temperature_dependency/results/train_predictions.csv')\n",
    "df_test = pd.read_csv('../Temperature_dependency/results/test_predictions.csv')\n",
    "\n",
    "kfolds = True\n",
    "\n",
    "methods = [\n",
    "        'GNNGH',\n",
    "        'SolvGNNGH',\n",
    "        'GNNGH_T',\n",
    "               ]\n",
    "if kfolds:\n",
    "    methods = [method + '_kfolds' for method in methods]\n",
    "\n",
    "df_train = select_df(df_train, 'all', methods)\n",
    "df_test = select_df(df_test, 'all', methods)\n",
    "df_complete = pd.concat([df_train, df_test], axis=0)\n",
    "df_complete['split'] = ['Train' for i in range(df_train.shape[0])] + ['Test' for i in range(df_test.shape[0])]"
   ]
  },
  {
   "cell_type": "code",
   "execution_count": 4,
   "id": "c566547a",
   "metadata": {},
   "outputs": [],
   "source": [
    "def plot_parity_interactive(method, df_complete=df_complete):\n",
    "    fig_scatter = px.scatter(df_complete,\n",
    "                             x=\"log-gamma\",\n",
    "                             y=method,\n",
    "                             color='split',\n",
    "                             title=method+' predictions',\n",
    "                             labels={method: 'Predicted IDAC',\n",
    "                                     'log-gamma': 'Experimental IDAC',\n",
    "                                     'split': 'Split'},\n",
    "                             width=800,\n",
    "                             height=700)\n",
    "\n",
    "    # This adds a dashed line for what a perfect model _should_ predict\n",
    "    y = df_complete[\"log-gamma\"].values\n",
    "    fig_scatter.add_shape(\n",
    "        type=\"line\", line=dict(dash='dash'),\n",
    "        x0=y.min(), y0=y.min(),\n",
    "        x1=y.max(), y1=y.max()\n",
    "    )\n",
    "\n",
    "    app_scatter = molplotly.add_molecules(fig=fig_scatter,\n",
    "                                          df=df_complete,\n",
    "                                          smiles_col=['Solvent_SMILES', 'Solute_SMILES'],\n",
    "                                          caption_cols=['T', 'Solvent_name','Solute_name'],\n",
    "                                          caption_transform={'Predicted IDAC': lambda x: f\"{x:.2f}\",\n",
    "                                                             'Experimental IDAC': lambda x: f\"{x:.2f}\",\n",
    "                                                             'T': lambda x: f\"{x:.2f}\"\n",
    "                                                             },\n",
    "                                          color_col='split'\n",
    "                                          )\n",
    "\n",
    "    # change the arguments here to run the dash app on an external server and/or change the size of the app!\n",
    "    app_scatter.run_server(mode='inline', port=8002, height=800)\n",
    "    \n",
    "def plot_parity_interactive_allmethods(df_complete):\n",
    "    fig_scatter = px.scatter(df_complete,\n",
    "                             x=\"log-gamma\",\n",
    "                             y='prediction',\n",
    "                             color='method',\n",
    "                             title='All models predictions',\n",
    "                             labels={'prediction': 'Predicted IDAC',\n",
    "                                     'log-gamma': 'Experimental IDAC',\n",
    "                                     'method': 'Model (split)'},\n",
    "                             width=800,\n",
    "                             height=700)\n",
    "\n",
    "    # This adds a dashed line for what a perfect model _should_ predict\n",
    "    y = df_complete[\"log-gamma\"].values\n",
    "    fig_scatter.add_shape(\n",
    "        type=\"line\", line=dict(dash='dash'),\n",
    "        x0=y.min(), y0=y.min(),\n",
    "        x1=y.max(), y1=y.max()\n",
    "    )\n",
    "\n",
    "    app_scatter = molplotly.add_molecules(fig=fig_scatter,\n",
    "                                          df=df_complete,\n",
    "                                          smiles_col=['Solvent_SMILES', 'Solute_SMILES'],\n",
    "                                          caption_cols=['T', 'Solvent_name','Solute_name'],\n",
    "                                          caption_transform={'Predicted IDAC': lambda x: f\"{x:.2f}\",\n",
    "                                                             'Experimental IDAC': lambda x: f\"{x:.2f}\",\n",
    "                                                             'T': lambda x: f\"{x:.2f}\"\n",
    "                                                             },\n",
    "                                          color_col='method'\n",
    "                                          )\n",
    "\n",
    "    # change the arguments here to run the dash app on an external server and/or change the size of the app!\n",
    "    app_scatter.run_server(mode='inline', port=8003, height=800)\n",
    "    \n",
    "def plot_parity_interactive_T(method, df_complete=df_complete):\n",
    "    fig_scatter = px.scatter(df_complete,\n",
    "                             x=\"log-gamma\",\n",
    "                             y=method,\n",
    "                             color='T',\n",
    "                             title=method+' predictions',\n",
    "                             labels={method: 'Predicted IDAC',\n",
    "                                     'log-gamma': 'Experimental IDAC',\n",
    "                                     'T': 'Temperature'},\n",
    "                             width=800,\n",
    "                             height=700)\n",
    "\n",
    "    # This adds a dashed line for what a perfect model _should_ predict\n",
    "    y = df_complete[\"log-gamma\"].values\n",
    "    fig_scatter.add_shape(\n",
    "        type=\"line\", line=dict(dash='dash'),\n",
    "        x0=y.min(), y0=y.min(),\n",
    "        x1=y.max(), y1=y.max()\n",
    "    )\n",
    "\n",
    "    app_scatter = molplotly.add_molecules(fig=fig_scatter,\n",
    "                                          df=df_complete,\n",
    "                                          smiles_col=['Solvent_SMILES', 'Solute_SMILES'],\n",
    "                                          caption_cols=['T', 'Solvent_name','Solute_name'],\n",
    "                                          caption_transform={'Predicted IDAC': lambda x: f\"{x:.2f}\",\n",
    "                                                             'Experimental IDAC': lambda x: f\"{x:.2f}\",\n",
    "                                                             'T': lambda x: f\"{x:.2f}\"\n",
    "                                                             },\n",
    "                                          color_col='T'\n",
    "                                          )\n",
    "\n",
    "    # change the arguments here to run the dash app on an external server and/or change the size of the app!\n",
    "    app_scatter.run_server(mode='inline', port=8004, height=800)\n",
    "    "
   ]
  },
  {
   "cell_type": "code",
   "execution_count": 5,
   "id": "82ac12e6",
   "metadata": {},
   "outputs": [],
   "source": [
    "log_gamma_all = []\n",
    "prediction_all = []\n",
    "method_all = []\n",
    "solvent_smiles_all = []\n",
    "solute_smiles_all = []\n",
    "solvent_name_all = []\n",
    "solute_name_all = []\n",
    "T_all = []\n",
    "\n",
    "for method in methods:\n",
    "    log_gamma_all.extend(df_complete['log-gamma'].tolist())\n",
    "    prediction_all.extend(df_complete[method].tolist())\n",
    "    solvent_smiles_all.extend(df_complete['Solvent_SMILES'].tolist())\n",
    "    solute_smiles_all.extend(df_complete['Solute_SMILES'].tolist())\n",
    "    solvent_name_all.extend(df_complete['Solvent_name'].tolist())\n",
    "    solute_name_all.extend(df_complete['Solute_name'].tolist())\n",
    "    T_all.extend(df_complete['T'].tolist())\n",
    "    for i in range(df_complete.shape[0]):\n",
    "        method_all.append(method + ' (' + df_complete['split'].iloc[i] + ')')\n",
    "\n",
    "df_all = pd.DataFrame({\n",
    "    'log-gamma':log_gamma_all,\n",
    "    'prediction': prediction_all,\n",
    "    'Solvent_SMILES': solvent_smiles_all,\n",
    "    'Solute_SMILES': solute_smiles_all,\n",
    "    'Solvent_name': solvent_name_all,\n",
    "    'Solute_name': solute_name_all,\n",
    "    'T': T_all,\n",
    "    'method':method_all\n",
    "})"
   ]
  },
  {
   "cell_type": "markdown",
   "id": "ed0bef29",
   "metadata": {},
   "source": [
    "## Parity plot for all methods"
   ]
  },
  {
   "cell_type": "code",
   "execution_count": 6,
   "id": "9be90329",
   "metadata": {},
   "outputs": [
    {
     "data": {
      "text/html": [
       "\n",
       "        <iframe\n",
       "            width=\"100%\"\n",
       "            height=\"800\"\n",
       "            src=\"http://127.0.0.1:8003/\"\n",
       "            frameborder=\"0\"\n",
       "            allowfullscreen\n",
       "            \n",
       "        ></iframe>\n",
       "        "
      ],
      "text/plain": [
       "<IPython.lib.display.IFrame at 0x268679b1bb0>"
      ]
     },
     "metadata": {},
     "output_type": "display_data"
    }
   ],
   "source": [
    "plot_parity_interactive_allmethods(df_all)"
   ]
  },
  {
   "cell_type": "markdown",
   "id": "6d1c0804",
   "metadata": {},
   "source": [
    "## Parity plot with temperatures"
   ]
  },
  {
   "cell_type": "code",
   "execution_count": 7,
   "id": "1ffed5d8",
   "metadata": {},
   "outputs": [
    {
     "data": {
      "text/html": [
       "\n",
       "        <iframe\n",
       "            width=\"100%\"\n",
       "            height=\"800\"\n",
       "            src=\"http://127.0.0.1:8004/\"\n",
       "            frameborder=\"0\"\n",
       "            allowfullscreen\n",
       "            \n",
       "        ></iframe>\n",
       "        "
      ],
      "text/plain": [
       "<IPython.lib.display.IFrame at 0x19c8fa7cc10>"
      ]
     },
     "metadata": {},
     "output_type": "display_data"
    }
   ],
   "source": [
    "plot_parity_interactive_T(methods[2], df_complete=df_test)"
   ]
  },
  {
   "cell_type": "markdown",
   "id": "e1d4b0ca",
   "metadata": {},
   "source": [
    "## Individual methods parity plots"
   ]
  },
  {
   "cell_type": "code",
   "execution_count": 8,
   "id": "729348a7",
   "metadata": {
    "scrolled": false
   },
   "outputs": [
    {
     "data": {
      "text/html": [
       "\n",
       "        <iframe\n",
       "            width=\"100%\"\n",
       "            height=\"800\"\n",
       "            src=\"http://127.0.0.1:8002/\"\n",
       "            frameborder=\"0\"\n",
       "            allowfullscreen\n",
       "            \n",
       "        ></iframe>\n",
       "        "
      ],
      "text/plain": [
       "<IPython.lib.display.IFrame at 0x19c902002e0>"
      ]
     },
     "metadata": {},
     "output_type": "display_data"
    }
   ],
   "source": [
    "plot_parity_interactive(methods[0])"
   ]
  }
 ],
 "metadata": {
  "kernelspec": {
   "display_name": "Python 3 (ipykernel)",
   "language": "python",
   "name": "python3"
  },
  "language_info": {
   "codemirror_mode": {
    "name": "ipython",
    "version": 3
   },
   "file_extension": ".py",
   "mimetype": "text/x-python",
   "name": "python",
   "nbconvert_exporter": "python",
   "pygments_lexer": "ipython3",
   "version": "3.8.12"
  }
 },
 "nbformat": 4,
 "nbformat_minor": 5
}
