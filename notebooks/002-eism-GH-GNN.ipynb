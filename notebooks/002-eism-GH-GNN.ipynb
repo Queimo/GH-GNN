{
 "cells": [
  {
   "cell_type": "markdown",
   "id": "fbbcf596",
   "metadata": {},
   "source": [
    "# Gibbs-Helmholtz Graph Neural Network (GH-GNN)\n",
    "\n",
    "An illustration of how to use GH-GNN for obtaining predictions on infinite dilution activity coefficients"
   ]
  },
  {
   "cell_type": "markdown",
   "id": "3eb11246",
   "metadata": {},
   "source": [
    "## 1. Activate the conda environment\n",
    "\n",
    "Make sure you have activated an anaconda environment with all the necessary dependencies installed as mentioned in the [README file](https://github.com/edgarsmdn/GH-GNN/edit/main/README.md) on GitHub.\n"
   ]
  },
  {
   "cell_type": "markdown",
   "id": "f3a7672e",
   "metadata": {},
   "source": [
    "## 2. Import the model"
   ]
  },
  {
   "cell_type": "code",
   "execution_count": 1,
   "id": "1e4ce98c",
   "metadata": {},
   "outputs": [],
   "source": [
    "from GHGNN import GH_GNN"
   ]
  },
  {
   "cell_type": "markdown",
   "id": "c45be910",
   "metadata": {},
   "source": [
    "## 3. Making predictions with GH-GNN\n",
    "\n",
    "Let's first import some binary systems for which we try to predict infinite dilution activity coefficients"
   ]
  },
  {
   "cell_type": "code",
   "execution_count": 2,
   "id": "30b0766f",
   "metadata": {},
   "outputs": [],
   "source": [
    "import pandas as pd\n",
    "from tqdm import tqdm\n",
    "import numpy as np"
   ]
  },
  {
   "cell_type": "code",
   "execution_count": 3,
   "id": "cc1bd385",
   "metadata": {
    "scrolled": true
   },
   "outputs": [],
   "source": [
    "df_brouwer = pd.read_csv('../data/processed/brouwer_edge_test.csv')"
   ]
  },
  {
   "cell_type": "markdown",
   "id": "8dc9bc45",
   "metadata": {},
   "source": [
    "Now, let's make the predictions for all systems.\n",
    "\n",
    "This \"user-frindely\" implementation of the model as a Python class was built to support the prediction of one system at the time. Therefore, it cannot take advantage of the parallezation of the calculations for multiple systems. However, coding such implementation into this class should be straightforward.\n",
    "\n",
    "The important function here is ```predict``` which takes as arguments:\n",
    "\n",
    "- ```Solute SMILES```\n",
    "- ```Solvent SMILES```\n",
    "- ```Temperature``` in degree Celsius\n",
    "- ```AD``` flag which refers to a valid Applicability domain option (explained in the following sections)\n",
    "\n",
    "    - ```'both'```\n",
    "    - ```'class'```\n",
    "    - ```'tanimoto'```\n",
    "    - ```None```"
   ]
  },
  {
   "cell_type": "code",
   "execution_count": 4,
   "id": "087b34b7",
   "metadata": {},
   "outputs": [
    {
     "name": "stderr",
     "output_type": "stream",
     "text": [
      "100%|██████████| 2233/2233 [04:01<00:00,  9.25it/s]\n"
     ]
    }
   ],
   "source": [
    "ln_gamma_predictions = []\n",
    "\n",
    "solutes = df_brouwer['Solute_SMILES'].tolist()\n",
    "solvents = df_brouwer['Solvent_SMILES'].tolist()\n",
    "Ts = df_brouwer['T'].to_numpy() + 273.15\n",
    "\n",
    "for solute, solvent, T in tqdm(zip(solutes, solvents, Ts), total=len(Ts)):\n",
    "    model = GH_GNN(solute, solvent)\n",
    "    pred = model.predict(T, AD=None)\n",
    "    ln_gamma_predictions.append(pred)\n",
    "\n",
    "df_brouwer['GH-GNN'] = ln_gamma_predictions   "
   ]
  },
  {
   "cell_type": "markdown",
   "id": "dd241385",
   "metadata": {},
   "source": [
    "Finally, let's see that the predictions here correspond to the ones reported in the original paper:"
   ]
  },
  {
   "cell_type": "code",
   "execution_count": 5,
   "id": "a24fa888",
   "metadata": {},
   "outputs": [],
   "source": [
    "df_brouwer_pred = pd.read_csv('../models/temperature_dependency/discrete_extrapolation/brouwer_edge_predictions.csv')"
   ]
  },
  {
   "cell_type": "code",
   "execution_count": 6,
   "id": "9fe004d4",
   "metadata": {},
   "outputs": [
    {
     "data": {
      "text/plain": [
       "1.8691514783963946e-08"
      ]
     },
     "execution_count": 6,
     "metadata": {},
     "output_type": "execute_result"
    }
   ],
   "source": [
    "np.mean(np.array(ln_gamma_predictions) - df_brouwer_pred['GNNGH_T'].to_numpy())"
   ]
  },
  {
   "cell_type": "code",
   "execution_count": 10,
   "id": "8b60c6a6",
   "metadata": {},
   "outputs": [
    {
     "data": {
      "text/html": [
       "\n",
       "        <iframe\n",
       "            width=\"100%\"\n",
       "            height=\"800\"\n",
       "            src=\"http://127.0.0.1:8311/\"\n",
       "            frameborder=\"0\"\n",
       "            allowfullscreen\n",
       "            \n",
       "        ></iframe>\n",
       "        "
      ],
      "text/plain": [
       "<IPython.lib.display.IFrame at 0x1c327974b20>"
      ]
     },
     "metadata": {},
     "output_type": "display_data"
    }
   ],
   "source": [
    "import plotly.express as px\n",
    "import molplotly\n",
    "import random\n",
    "\n",
    "fig_scatter = px.scatter(df_brouwer,\n",
    "                             x=\"log-gamma\",\n",
    "                             y='GH-GNN',\n",
    "                             title='GH-GNN parity plot',\n",
    "                             labels={'GH-GNN': 'Predicted IDAC (GH-GNN)',\n",
    "                                     'log-gamma': 'Experimental IDAC',\n",
    "                                     },\n",
    "                             width=800,\n",
    "                             height=700)\n",
    "\n",
    "y = df_brouwer[\"log-gamma\"].values\n",
    "fig_scatter.add_shape(\n",
    "    type=\"line\", line=dict(dash='dash'),\n",
    "    x0=y.min(), y0=y.min(),\n",
    "    x1=y.max(), y1=y.max()\n",
    ")\n",
    "\n",
    "app_scatter = molplotly.add_molecules(fig=fig_scatter,\n",
    "                                      df=df_brouwer,\n",
    "                                      smiles_col=['Solvent_SMILES', 'Solute_SMILES'],\n",
    "                                      caption_cols=['T'],\n",
    "                                      caption_transform={'Predicted IDAC (GH-GNN)': lambda x: f\"{x:.2f}\",\n",
    "                                                         'Experimental IDAC': lambda x: f\"{x:.2f}\",\n",
    "                                                         'T': lambda x: f\"{x:.2f}\"\n",
    "                                                         },\n",
    "                                      )\n",
    "\n",
    "app_scatter.run_server(mode='inline', port=8020+random.randint(0, 999), height=800)"
   ]
  },
  {
   "cell_type": "markdown",
   "id": "84a70f2f",
   "metadata": {},
   "source": [
    "## 4. Using the applicability domain recommendations\n",
    "\n",
    "In the original paper, the following recommendations are made regarding the applicability domain of GH-GNN in order to obtained a prediction with good accuracy:\n",
    "- **Chemical class** representation in the training set $\\geq25$\n",
    "- **Tanimoto** indicator $\\geq0.35$"
   ]
  },
  {
   "cell_type": "markdown",
   "id": "ee6eb2ec",
   "metadata": {},
   "source": [
    "Let's now restrict our predictions to include only feasible systems according to the **chemical class representation indicator**. Note that the following cell will last for a while to finish. The reason for this is that the API connection of [Classyfire](http://classyfire.wishartlab.com/) has a limit of around 12 queries per minute."
   ]
  },
  {
   "cell_type": "code",
   "execution_count": 11,
   "id": "97aa4582",
   "metadata": {},
   "outputs": [
    {
     "name": "stderr",
     "output_type": "stream",
     "text": [
      "100%|██████████| 2233/2233 [23:58<00:00,  1.55it/s] \n"
     ]
    }
   ],
   "source": [
    "ln_gamma_predictions=[]\n",
    "feasibles = []\n",
    "n_classes = []\n",
    "\n",
    "for solute, solvent, T in tqdm(zip(solutes, solvents, Ts), total=len(Ts)):\n",
    "    model = GH_GNN(solute, solvent)\n",
    "    pred, feasible, n_class = model.predict(T, AD='class')\n",
    "    ln_gamma_predictions.append(pred)\n",
    "    feasibles.append(feasible)\n",
    "    n_classes.append(n_class)\n",
    "\n",
    "df_brouwer['GH-GNN'] = ln_gamma_predictions\n",
    "df_brouwer['Feasible Chemical Class'] = feasibles\n",
    "df_brouwer['N systems in training'] = n_classes"
   ]
  },
  {
   "cell_type": "code",
   "execution_count": 12,
   "id": "20653ee4",
   "metadata": {},
   "outputs": [
    {
     "data": {
      "text/html": [
       "\n",
       "        <iframe\n",
       "            width=\"100%\"\n",
       "            height=\"800\"\n",
       "            src=\"http://127.0.0.1:8554/\"\n",
       "            frameborder=\"0\"\n",
       "            allowfullscreen\n",
       "            \n",
       "        ></iframe>\n",
       "        "
      ],
      "text/plain": [
       "<IPython.lib.display.IFrame at 0x1c329eaea00>"
      ]
     },
     "metadata": {},
     "output_type": "display_data"
    }
   ],
   "source": [
    "fig_scatter = px.scatter(df_brouwer,\n",
    "                             x=\"log-gamma\",\n",
    "                             y='GH-GNN',\n",
    "                             color='Feasible Chemical Class',\n",
    "                             title='GH-GNN parity plot',\n",
    "                             labels={'GH-GNN': 'Predicted IDAC (GH-GNN)',\n",
    "                                     'log-gamma': 'Experimental IDAC',\n",
    "                                     'Feasible Chemical Class': 'Feasible according to Class?'\n",
    "                                     },\n",
    "                             width=800,\n",
    "                             height=700)\n",
    "\n",
    "y = df_brouwer[\"log-gamma\"].values\n",
    "fig_scatter.add_shape(\n",
    "    type=\"line\", line=dict(dash='dash'),\n",
    "    x0=y.min(), y0=y.min(),\n",
    "    x1=y.max(), y1=y.max()\n",
    ")\n",
    "\n",
    "app_scatter = molplotly.add_molecules(fig=fig_scatter,\n",
    "                                      df=df_brouwer,\n",
    "                                      smiles_col=['Solvent_SMILES', 'Solute_SMILES'],\n",
    "                                      caption_cols=['T', 'N systems in training'],\n",
    "                                      caption_transform={'Predicted IDAC (GH-GNN)': lambda x: f\"{x:.2f}\",\n",
    "                                                         'Experimental IDAC': lambda x: f\"{x:.2f}\",\n",
    "                                                         'T': lambda x: f\"{x:.2f}\"\n",
    "                                                         },\n",
    "                                      color_col='Feasible Chemical Class'\n",
    "                                      )\n",
    "\n",
    "app_scatter.run_server(mode='inline', port=8020+random.randint(0, 999), height=800)"
   ]
  },
  {
   "cell_type": "markdown",
   "id": "149947c9",
   "metadata": {},
   "source": [
    "Now, let's try only the Tanimoto indicator. You will notice that the predictions take longer given that the **Tanimoto indicator** is now being calculated for all systems."
   ]
  },
  {
   "cell_type": "code",
   "execution_count": 13,
   "id": "8206912e",
   "metadata": {},
   "outputs": [
    {
     "name": "stderr",
     "output_type": "stream",
     "text": [
      "100%|██████████| 2233/2233 [05:10<00:00,  7.19it/s]\n"
     ]
    }
   ],
   "source": [
    "ln_gamma_predictions=[]\n",
    "feasibles = []\n",
    "tanimoto_indicators = []\n",
    "\n",
    "for solute, solvent, T in tqdm(zip(solutes, solvents, Ts), total=len(Ts)):\n",
    "    model = GH_GNN(solute, solvent)\n",
    "    pred, feasible, max_10_sim = model.predict(T, AD='tanimoto')\n",
    "    ln_gamma_predictions.append(pred)\n",
    "    feasibles.append(feasible)\n",
    "    tanimoto_indicators.append(max_10_sim)\n",
    "\n",
    "df_brouwer['GH-GNN'] = ln_gamma_predictions\n",
    "df_brouwer['Feasible Tanimoto'] = feasibles\n",
    "df_brouwer['Tanimoto indicators'] = tanimoto_indicators"
   ]
  },
  {
   "cell_type": "code",
   "execution_count": 14,
   "id": "e5175b4a",
   "metadata": {},
   "outputs": [
    {
     "data": {
      "text/html": [
       "\n",
       "        <iframe\n",
       "            width=\"100%\"\n",
       "            height=\"800\"\n",
       "            src=\"http://127.0.0.1:8523/\"\n",
       "            frameborder=\"0\"\n",
       "            allowfullscreen\n",
       "            \n",
       "        ></iframe>\n",
       "        "
      ],
      "text/plain": [
       "<IPython.lib.display.IFrame at 0x1c328435ac0>"
      ]
     },
     "metadata": {},
     "output_type": "display_data"
    }
   ],
   "source": [
    "fig_scatter = px.scatter(df_brouwer,\n",
    "                             x=\"log-gamma\",\n",
    "                             y='GH-GNN',\n",
    "                             color='Feasible Tanimoto',\n",
    "                             title='GH-GNN parity plot',\n",
    "                             labels={'GH-GNN': 'Predicted IDAC (GH-GNN)',\n",
    "                                     'log-gamma': 'Experimental IDAC',\n",
    "                                     'Feasible Tanimoto': 'Feasible according to Tanimoto?'\n",
    "                                     },\n",
    "                             width=800,\n",
    "                             height=700)\n",
    "\n",
    "y = df_brouwer[\"log-gamma\"].values\n",
    "fig_scatter.add_shape(\n",
    "    type=\"line\", line=dict(dash='dash'),\n",
    "    x0=y.min(), y0=y.min(),\n",
    "    x1=y.max(), y1=y.max()\n",
    ")\n",
    "\n",
    "app_scatter = molplotly.add_molecules(fig=fig_scatter,\n",
    "                                      df=df_brouwer,\n",
    "                                      smiles_col=['Solvent_SMILES', 'Solute_SMILES'],\n",
    "                                      caption_cols=['T', 'Tanimoto indicators'],\n",
    "                                      caption_transform={'Predicted IDAC (GH-GNN)': lambda x: f\"{x:.2f}\",\n",
    "                                                         'Experimental IDAC': lambda x: f\"{x:.2f}\",\n",
    "                                                         'T': lambda x: f\"{x:.2f}\",\n",
    "                                                         'Tanimoto indicators': lambda x: f\"{x:.2f}\"\n",
    "                                                         },\n",
    "                                      color_col='Feasible Tanimoto'\n",
    "                                      )\n",
    "\n",
    "app_scatter.run_server(mode='inline', port=8020+random.randint(0, 999), height=800)"
   ]
  },
  {
   "cell_type": "markdown",
   "id": "e14d9c93",
   "metadata": {},
   "source": [
    "As can be seen by comparing the previous two plots, the two different applicability domain indicators have conflicts in classifying several systems as feasible or unfeasible. However, we can notice that the Tanimoto indicator provides a more reliable prediction of the applicability domain of GH-GNN compared to the chemical classes indicator.\n",
    "\n",
    "Let's look at the intersection fo these two indicators."
   ]
  },
  {
   "cell_type": "code",
   "execution_count": 15,
   "id": "b058f032",
   "metadata": {},
   "outputs": [],
   "source": [
    "df_intersection = df_brouwer[(df_brouwer['Feasible Chemical Class']==True) & (df_brouwer['Feasible Tanimoto']==True)]"
   ]
  },
  {
   "cell_type": "code",
   "execution_count": 16,
   "id": "17c6adbb",
   "metadata": {},
   "outputs": [
    {
     "data": {
      "text/html": [
       "\n",
       "        <iframe\n",
       "            width=\"100%\"\n",
       "            height=\"800\"\n",
       "            src=\"http://127.0.0.1:8832/\"\n",
       "            frameborder=\"0\"\n",
       "            allowfullscreen\n",
       "            \n",
       "        ></iframe>\n",
       "        "
      ],
      "text/plain": [
       "<IPython.lib.display.IFrame at 0x1c3282dd100>"
      ]
     },
     "metadata": {},
     "output_type": "display_data"
    }
   ],
   "source": [
    "fig_scatter = px.scatter(df_intersection,\n",
    "                             x=\"log-gamma\",\n",
    "                             y='GH-GNN',\n",
    "                             title='GH-GNN parity plot',\n",
    "                             labels={'GH-GNN': 'Predicted IDAC (GH-GNN)',\n",
    "                                     'log-gamma': 'Experimental IDAC',\n",
    "                                     },\n",
    "                             width=800,\n",
    "                             height=700)\n",
    "\n",
    "y = df_brouwer[\"log-gamma\"].values\n",
    "fig_scatter.add_shape(\n",
    "    type=\"line\", line=dict(dash='dash'),\n",
    "    x0=y.min(), y0=y.min(),\n",
    "    x1=y.max(), y1=y.max()\n",
    ")\n",
    "\n",
    "app_scatter = molplotly.add_molecules(fig=fig_scatter,\n",
    "                                      df=df_intersection,\n",
    "                                      smiles_col=['Solvent_SMILES', 'Solute_SMILES'],\n",
    "                                      caption_cols=['T', 'N systems in training', 'Tanimoto indicators'],\n",
    "                                      caption_transform={'Predicted IDAC (GH-GNN)': lambda x: f\"{x:.2f}\",\n",
    "                                                         'Experimental IDAC': lambda x: f\"{x:.2f}\",\n",
    "                                                         'T': lambda x: f\"{x:.2f}\",\n",
    "                                                         'Tanimoto indicators': lambda x: f\"{x:.2f}\"\n",
    "                                                         },\n",
    "                                      )\n",
    "\n",
    "app_scatter.run_server(mode='inline', port=8020+random.randint(0, 999), height=800)"
   ]
  },
  {
   "cell_type": "code",
   "execution_count": 17,
   "id": "5ed5efeb",
   "metadata": {},
   "outputs": [
    {
     "data": {
      "text/plain": [
       "0.2881038590512974"
      ]
     },
     "execution_count": 17,
     "metadata": {},
     "output_type": "execute_result"
    }
   ],
   "source": [
    "from sklearn.metrics import mean_absolute_error\n",
    "\n",
    "mean_absolute_error(df_intersection['log-gamma'].to_numpy(), df_intersection['GH-GNN'].to_numpy())"
   ]
  }
 ],
 "metadata": {
  "kernelspec": {
   "display_name": "Python 3 (ipykernel)",
   "language": "python",
   "name": "python3"
  },
  "language_info": {
   "codemirror_mode": {
    "name": "ipython",
    "version": 3
   },
   "file_extension": ".py",
   "mimetype": "text/x-python",
   "name": "python",
   "nbconvert_exporter": "python",
   "pygments_lexer": "ipython3",
   "version": "3.8.12"
  }
 },
 "nbformat": 4,
 "nbformat_minor": 5
}
